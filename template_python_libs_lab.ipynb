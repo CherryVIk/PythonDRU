{
  "cells": [
    {
      "cell_type": "markdown",
      "metadata": {
        "id": "view-in-github",
        "colab_type": "text"
      },
      "source": [
        "<a href=\"https://colab.research.google.com/github/CherryVIk/PythonDRU/blob/main/template_python_libs_lab.ipynb\" target=\"_parent\"><img src=\"https://colab.research.google.com/assets/colab-badge.svg\" alt=\"Open In Colab\"/></a>"
      ]
    },
    {
      "cell_type": "markdown",
      "metadata": {
        "id": "g0b3IEgTsdcD-webhook"
      },
      "source": [
        "# Libraries: numpy, scipy, pandas"
      ]
    },
    {
      "cell_type": "markdown",
      "metadata": {
        "id": "W6LlBSUPg8PK"
      },
      "source": [
        "> **Important note:** Before submission make sure that you **didn't add or delete any notebook cells**. Otherwise your work may not be accepted by the validator!"
      ]
    },
    {
      "cell_type": "code",
      "execution_count": 1,
      "metadata": {
        "id": "Be4_dnVpsdcF"
      },
      "outputs": [],
      "source": [
        "import numpy as np\n",
        "import matplotlib.pyplot as plt\n",
        "import pandas as pd"
      ]
    },
    {
      "cell_type": "markdown",
      "metadata": {
        "id": "NaWDhciVg8PN"
      },
      "source": [
        "#### 1. Implement function which creates a $nxm$ matrix and fills it with a checkerboard pattern:\n",
        "<div style=\"text-align: right\">1 point</div>"
      ]
    },
    {
      "cell_type": "code",
      "execution_count": 2,
      "metadata": {
        "id": "FZSsLvy8g8PO"
      },
      "outputs": [],
      "source": [
        "def checkerboard(n, m):\n",
        "    \"\"\"\n",
        "    :n: int\n",
        "    :m: int\n",
        "    :return: numpy.ndarray\n",
        "    \"\"\"\n",
        "    res = np.zeros((n,m), dtype=np.int16)\n",
        "    for i in range(n):\n",
        "      for j in range(m):\n",
        "        if (i+j)%2 != 0:\n",
        "          res[i][j] = 1\n",
        "\n",
        "    return res\n",
        "        # YOUR CODE HERE"
      ]
    },
    {
      "cell_type": "code",
      "execution_count": 6,
      "metadata": {
        "colab": {
          "base_uri": "https://localhost:8080/"
        },
        "id": "AYvaONEFg8PP",
        "outputId": "e47e1ecd-8af9-481c-91eb-a34d8ec6abb6"
      },
      "outputs": [
        {
          "output_type": "stream",
          "name": "stdout",
          "text": [
            "Checkerboard pattern: \n",
            " [[0 1 0]\n",
            " [1 0 1]\n",
            " [0 1 0]]\n"
          ]
        }
      ],
      "source": [
        "print('Checkerboard pattern: \\n', checkerboard(3, 3))"
      ]
    },
    {
      "cell_type": "markdown",
      "metadata": {
        "id": "WEwpJTbzg8PQ"
      },
      "source": [
        "Expected Output: \n",
        "<table>\n",
        "  <tr>\n",
        "    <td></td>\n",
        "    <td> [[0 1 0]\n",
        "  <tr>\n",
        "    <td>Checkerboard pattern: </td>\n",
        "    <td> [1 0 1]\n",
        "  <tr>\n",
        "    <td></td>\n",
        "    <td> [0 1 0]]"
      ]
    },
    {
      "cell_type": "markdown",
      "metadata": {
        "id": "avCbiLWDg8PQ"
      },
      "source": [
        "#### 2. Implement function which solves system of linear equations:\n",
        "<div style=\"text-align: right\">1 point</div>"
      ]
    },
    {
      "cell_type": "code",
      "execution_count": 20,
      "metadata": {
        "id": "8uVrrBVpg8PR"
      },
      "outputs": [],
      "source": [
        "def solve_system(a, b):\n",
        "    \"\"\"\n",
        "    :a: list[list]\n",
        "    :b: list\n",
        "    :return: numpy.ndarray\n",
        "    \"\"\"\n",
        "    A = np.array(a)\n",
        "    B = np.array(b)\n",
        "    # X = np.linalg.inv(A).dot(B)\n",
        "    X = np.linalg.solve(A, B)\n",
        "    return X"
      ]
    },
    {
      "cell_type": "code",
      "execution_count": 21,
      "metadata": {
        "colab": {
          "base_uri": "https://localhost:8080/"
        },
        "id": "wvTzOLmqg8PT",
        "outputId": "0b036393-503e-49ba-9535-c2aed7db38ce"
      },
      "outputs": [
        {
          "output_type": "stream",
          "name": "stdout",
          "text": [
            "Result:  [2. 3.]\n"
          ]
        }
      ],
      "source": [
        "print('Result: ', solve_system([[3,1], [1,2]], [9,8]))"
      ]
    },
    {
      "cell_type": "markdown",
      "metadata": {
        "id": "EHB4p9zdg8PU"
      },
      "source": [
        "Expected Output: \n",
        "<table>\n",
        "  <tr>\n",
        "    <td>Result:</td>\n",
        "    <td> [2. 3.] </td> \n",
        "  </tr>"
      ]
    },
    {
      "cell_type": "markdown",
      "metadata": {
        "id": "a7gbXt6og8PU"
      },
      "source": [
        "#### 3. Implement function which multiplies 2 matrixes and returns the max value of each column of the resulting matrix:\n",
        "<div style=\"text-align: right\">1 point</div>"
      ]
    },
    {
      "cell_type": "code",
      "execution_count": 44,
      "metadata": {
        "id": "c_9sgflVg8PV"
      },
      "outputs": [],
      "source": [
        "def mult(m1, m2):\n",
        "    \"\"\"\n",
        "    :m1: numpy.ndarray\n",
        "    :m2: numpy.ndarray\n",
        "    :return: numpy.ndarray\n",
        "    \"\"\"\n",
        "    res = m1 @ m2 \n",
        "\n",
        "    return np.max(res, axis=0) # max element in each column"
      ]
    },
    {
      "cell_type": "code",
      "execution_count": 45,
      "metadata": {
        "colab": {
          "base_uri": "https://localhost:8080/"
        },
        "id": "U8aYMX8ig8PZ",
        "outputId": "ea07947f-3d18-44ab-8dd4-faadc3604226"
      },
      "outputs": [
        {
          "output_type": "stream",
          "name": "stdout",
          "text": [
            "Result:  [28 83]\n"
          ]
        }
      ],
      "source": [
        "p = np.array([[1, 9], [0, 1]])\n",
        "q = np.array([[1, 2], [3, 9]])\n",
        "print('Result: ', mult(p, q))"
      ]
    },
    {
      "cell_type": "markdown",
      "metadata": {
        "id": "owIKeNYug8Pa"
      },
      "source": [
        "Expected Output: \n",
        "<table>\n",
        "  <tr>\n",
        "    <td>Result:</td>\n",
        "    <td> [28 83] </td> \n",
        "  </tr>"
      ]
    },
    {
      "cell_type": "markdown",
      "metadata": {
        "id": "cXP-v9zRjPM5"
      },
      "source": [
        "#### 4. Implement function add_mean_and_calc_det(matrix), which adds to each element in the matrix row the mean of this row and returns the determinant of the resulting matrix.\n",
        "<div style=\"text-align: right\">1 point</div>"
      ]
    },
    {
      "cell_type": "code",
      "execution_count": 51,
      "metadata": {
        "id": "4_Hz6gEPjPM5"
      },
      "outputs": [],
      "source": [
        "def add_mean_and_calc_det(matrix):\n",
        "    \"\"\"\n",
        "    :matrix: numpy.ndarray[list[list[int]]]\n",
        "    :return: numpy.float64\n",
        "    \"\"\"\n",
        "    mean = np.mean(matrix, axis=1)\n",
        "    res = (matrix.T+mean).T         # add means to transposed matrix\n",
        "    return np.linalg.det(res)\n"
      ]
    },
    {
      "cell_type": "code",
      "execution_count": null,
      "metadata": {
        "id": "zZO__kp_sdcN"
      },
      "outputs": [],
      "source": [
        "print('Result:', add_mean_and_calc_det(np.array([[5, 3, 4], [7, 9, 8], [6, 7, 8]])))"
      ]
    },
    {
      "cell_type": "markdown",
      "metadata": {
        "id": "xmzo4PEssdcP"
      },
      "source": [
        "Expected Output: \n",
        "<table>\n",
        "  <tr>\n",
        "    <td>Result:</td>\n",
        "    <td> 72.0 </td> \n",
        "  </tr>"
      ]
    },
    {
      "cell_type": "markdown",
      "metadata": {
        "id": "FUAr1WPCjPM8"
      },
      "source": [
        "#### 5. Implement function nearest_to_scalar(matrix, n), which returns the closest to n number in the matrix.\n",
        "<div style=\"text-align: right\">1 point</div>"
      ]
    },
    {
      "cell_type": "code",
      "execution_count": 55,
      "metadata": {
        "colab": {
          "base_uri": "https://localhost:8080/"
        },
        "id": "VLS3S8g-jPM9",
        "outputId": "873d1b23-8186-48e4-d600-5361cb19add9"
      },
      "outputs": [
        {
          "output_type": "stream",
          "name": "stdout",
          "text": [
            "Nearest: 9\n"
          ]
        }
      ],
      "source": [
        "import numpy as np\n",
        "\"\"\"\n",
        "Get absolute difference of values in matrix with element,\n",
        "then find the min difference and that number will be the closest one.\n",
        "\n",
        "\"\"\"\n",
        "def nearest_to_scalar(matrix, n):\n",
        "    \"\"\"\n",
        "    :param matrix: numpy.ndarray[list[list[int]]]\n",
        "    :param n: int\n",
        "    :return: int  \n",
        "    \"\"\"\n",
        "    a = abs(matrix - n)        \n",
        "    ind = np.unravel_index(np.argmin(a, axis=None), a.shape) \n",
        "    return matrix.item(ind)\n",
        "\n",
        "    # YOUR CODE HERE"
      ]
    },
    {
      "cell_type": "code",
      "execution_count": 56,
      "metadata": {
        "colab": {
          "base_uri": "https://localhost:8080/"
        },
        "id": "OKSqsu9FsdcS",
        "outputId": "b8eff02e-7ad0-477c-e3b5-2cab66482c04"
      },
      "outputs": [
        {
          "output_type": "stream",
          "name": "stdout",
          "text": [
            "Nearest: 9\n"
          ]
        }
      ],
      "source": [
        "print('Nearest:', nearest_to_scalar(np.array([[5, 3, 4], [7, 9, 8], [6, 7, 8]]), 11))"
      ]
    },
    {
      "cell_type": "markdown",
      "metadata": {
        "id": "cSW-eweGsdcV"
      },
      "source": [
        "Expected Output:\n",
        "<table>\n",
        "  <tr>\n",
        "    <td>Nearest:</td>\n",
        "    <td> 9 </td> \n",
        "  </tr>"
      ]
    },
    {
      "cell_type": "markdown",
      "metadata": {
        "id": "0z5-m5v_jPM_"
      },
      "source": [
        "#### 6. Implement function svd_ranks(Z) which performs SVD of given matrix and returns a list of ranks of matrices U, S and V.\n",
        "<div style=\"text-align: right\">1 point</div>"
      ]
    },
    {
      "cell_type": "code",
      "execution_count": 62,
      "metadata": {
        "colab": {
          "base_uri": "https://localhost:8080/"
        },
        "id": "8m-SG2hJjPNA",
        "outputId": "4f5c5b56-cf09-46a1-856f-372a297a265c"
      },
      "outputs": [
        {
          "output_type": "stream",
          "name": "stdout",
          "text": [
            "Svd ranks: [3, 1, 3]\n"
          ]
        }
      ],
      "source": [
        "def svd_ranks(Z): \n",
        "    \"\"\"\n",
        "    :param Z: numpy.ndarray[list[list[int]]]\n",
        "    :return: list  \n",
        "    \"\"\"\n",
        "    svd = np.linalg.svd(Z)\n",
        "    ranks = []\n",
        "    for i in svd:\n",
        "      ranks.append(np.linalg.matrix_rank(i))\n",
        "\n",
        "    return ranks\n",
        "\n",
        "print('Svd ranks:', svd_ranks(np.arange(9).reshape((3, 3))))"
      ]
    },
    {
      "cell_type": "code",
      "execution_count": null,
      "metadata": {
        "id": "UGrS-YK7sdcY"
      },
      "outputs": [],
      "source": [
        "print('Svd ranks:', svd_ranks(np.arange(9).reshape((3, 3))))"
      ]
    },
    {
      "cell_type": "markdown",
      "metadata": {
        "id": "9RGRmS-Tsdcb"
      },
      "source": [
        "Expected Output: \n",
        "<table>\n",
        "  <tr>\n",
        "    <td>Svd ranks:</td>\n",
        "    <td> [3, 2, 3] </td> \n",
        "  </tr>"
      ]
    },
    {
      "cell_type": "markdown",
      "metadata": {
        "id": "GDABBx99g8Pu"
      },
      "source": [
        "#### 7. Implement function to sort a given complex array using the real part first, then the imaginary part:\n",
        "<div style=\"text-align: right\">1 point</div>"
      ]
    },
    {
      "cell_type": "code",
      "execution_count": null,
      "metadata": {
        "id": "mHzP7euUg8Pv"
      },
      "outputs": [],
      "source": [
        "def complex_sort(complex_nums):\n",
        "    \"\"\"\n",
        "    :complex_nums: list\n",
        "    :return: np.array  \n",
        "    \"\"\"\n",
        "    # YOUR CODE HERE"
      ]
    },
    {
      "cell_type": "code",
      "execution_count": null,
      "metadata": {
        "id": "9Ws0q6Y8g8Pw"
      },
      "outputs": [],
      "source": [
        "print('Result: ', complex_sort([1 + 2j, 3 - 1j, 3 - 2j, 4 - 3j, 3 + 5j]))"
      ]
    },
    {
      "cell_type": "markdown",
      "metadata": {
        "id": "XQSQlBzLg8Px"
      },
      "source": [
        "Expected Output: \n",
        "<table>\n",
        "  <tr>\n",
        "    <td>Result:</td>\n",
        "    <td> [1.+2.j 3.-2.j 3.-1.j 3.+5.j 4.-3.j]"
      ]
    },
    {
      "cell_type": "markdown",
      "metadata": {
        "id": "Salwmledg8Px"
      },
      "source": [
        "#### 8. Implement a function that computes the Mandelbrot fractal:\n",
        "<div style=\"text-align: right\">4 points</div>"
      ]
    },
    {
      "cell_type": "code",
      "execution_count": null,
      "metadata": {
        "id": "7ZBvk-glg8Py"
      },
      "outputs": [],
      "source": [
        "def compute_mandelbrot(n_max, threshold, nx, ny):\n",
        "    \"\"\"\n",
        "    :n_max: int\n",
        "    :threshold: float\n",
        "    :nx: int\n",
        "    :ny: int\n",
        "    :return: np.array  \n",
        "    \"\"\"\n",
        "    # A grid of c-values\n",
        "    x = np.linspace(-2, 1, nx)\n",
        "    y = np.linspace(-1.5, 1.5, ny)\n",
        "\n",
        "    c = x[:,np.newaxis] + 1j * y[np.newaxis,:]\n",
        "\n",
        "    # Mandelbrot iteration\n",
        "    # YOUR CODE HERE"
      ]
    },
    {
      "cell_type": "code",
      "execution_count": null,
      "metadata": {
        "id": "HzKmNdjFg8Py"
      },
      "outputs": [],
      "source": [
        "mandelbrot_set = compute_mandelbrot(50, 50., 601, 401)\n",
        "plt.imshow(mandelbrot_set.T, extent=[-2, 1, -1.5, 1.5])\n",
        "print('Shape: ', mandelbrot_set.shape)"
      ]
    },
    {
      "cell_type": "markdown",
      "metadata": {
        "id": "DnebtwF9g8Pz"
      },
      "source": [
        "Expected Output: \n",
        "<table>\n",
        "  <tr>\n",
        "    <td>Shape:</td>\n",
        "    <td> (601, 401)</td>\n",
        "<td><img src=\"https://dru.fra1.digitaloceanspaces.com/DS_Fundamentals/static/03_python_for_ds/lab/Python_for_Data_Science/img/08-mandelbrot.png\"></td>"
      ]
    },
    {
      "cell_type": "markdown",
      "metadata": {
        "id": "cV0BQjaGjPND"
      },
      "source": [
        "#### 9. Consider the following dictionary \"data\" and list \"labels\":"
      ]
    },
    {
      "cell_type": "code",
      "execution_count": null,
      "metadata": {
        "id": "_C0MzBX8jPND"
      },
      "outputs": [],
      "source": [
        "data = {'animal': ['cat', 'cat', 'dog', 'dog', 'cat', 'cat', 'dog', 'cat', 'dog', 'dog'],\n",
        "        'age': [2.5, 1, 0.5, np.nan, 5, 2, 3.5, np.nan, 7, 3],\n",
        "        'weight': [1, 3, 6, 8, 4, 3, 10, 2, 7, 3],\n",
        "        'priority': ['yes', 'yes', 'no', 'yes', 'no', 'no', 'no', 'yes', 'no', 'no']}\n",
        "\n",
        "labels = ['a', 'b', 'c', 'd', 'e', 'f', 'g', 'h', 'i', 'j']"
      ]
    },
    {
      "cell_type": "markdown",
      "metadata": {
        "id": "9erbHYY0jPNJ"
      },
      "source": [
        "**9.1 Implement function repl_nan(data, labels) which creates a dataframe from dictionary  \"data\" with indexes from the list \"labels\", replaces the values \"nan\" in the age field by the mean age depending on the animal's type and returns a new dataframe.**\n",
        "<div style=\"text-align: right\">1 point</div>"
      ]
    },
    {
      "cell_type": "code",
      "execution_count": null,
      "metadata": {
        "id": "TTd04W3zjPNL"
      },
      "outputs": [],
      "source": [
        "def repl_nan(data, labels):    \n",
        "    \"\"\"\n",
        "    :param data: dict\n",
        "    :param labels: list[str]\n",
        "    :return: pandas.core.frame.DataFrame \n",
        "    \"\"\"\n",
        "    # YOUR CODE HERE"
      ]
    },
    {
      "cell_type": "code",
      "execution_count": null,
      "metadata": {
        "id": "05k_bNK5sdck"
      },
      "outputs": [],
      "source": [
        "repl_nan(data, labels)"
      ]
    },
    {
      "cell_type": "markdown",
      "metadata": {
        "id": "5FUJ0jkssdcm"
      },
      "source": [
        "Expected Output: \n",
        "\n",
        "|index| animal   |   age |   weight | priority   |\n",
        "|----|----------|-------|----------|------------|\n",
        "| **a**  | cat      | 2.5   |        1 | yes        |\n",
        "| **b**  | cat      | 1     |        3 | yes        |\n",
        "| **c**  | dog      | 0.5   |        6 | no         |\n",
        "| **d**  | dog      | 3.5   |        8 | yes        |\n",
        "| **e**  | cat      | 5     |        4 | no         |\n",
        "| **f**  | cat      | 2     |        3 | no         |\n",
        "| **g**  | dog      | 3.5   |       10 | no         |\n",
        "| **h**  | cat      | 2.625 |        2 | yes        |\n",
        "| **i**  | dog      | 7     |        7 | no         |\n",
        "| **j**  | dog      | 3     |        3 | no         |"
      ]
    },
    {
      "cell_type": "markdown",
      "metadata": {
        "id": "nnrks-vGjPNO"
      },
      "source": [
        "#### 9.2 Implement function weight_to_type(data, labels) which creates a dataframe from dictionary \"data\" with indexes from the list \"labels\", calculates average weight of each animal type and returns dictionary with these values, where keys are animal types and values are animal weights.\n",
        "<div style=\"text-align: right\">1 point</div>"
      ]
    },
    {
      "cell_type": "code",
      "execution_count": null,
      "metadata": {
        "id": "v5fN_pdbjPNP"
      },
      "outputs": [],
      "source": [
        "def weight_to_type(data, labels):    \n",
        "    \"\"\"\n",
        "    :param data: dict\n",
        "    :param labels: list[str]\n",
        "    :return: dict\n",
        "    \"\"\"\n",
        "    # YOUR CODE HERE"
      ]
    },
    {
      "cell_type": "code",
      "execution_count": null,
      "metadata": {
        "id": "SaHRr_bAsdct"
      },
      "outputs": [],
      "source": [
        "print('weight_to_type', weight_to_type(data, labels))"
      ]
    },
    {
      "cell_type": "markdown",
      "metadata": {
        "id": "NBfp6yiEsdcv"
      },
      "source": [
        "Expected Output: \n",
        "<table>\n",
        "  <tr>\n",
        "    <td>weight_to_type:</td>\n",
        "    <td> {'cat': 2.6, 'dog': 6.8} </td> \n",
        "  </tr>"
      ]
    },
    {
      "cell_type": "markdown",
      "metadata": {
        "id": "aMRFy0acjPNS"
      },
      "source": [
        "#### 9.3  Implement function kittens(data, labels) which creates a dataframe from dictionary \"data\" with indexes from the list \"labels\" and returns dataframe with data about cats with age < 3.\n",
        "<div style=\"text-align: right\">1 point</div>"
      ]
    },
    {
      "cell_type": "code",
      "execution_count": null,
      "metadata": {
        "id": "iUdq_fcdjPNU"
      },
      "outputs": [],
      "source": [
        "def kittens(data, labels):    \n",
        "    \"\"\"\n",
        "    :param data: dict\n",
        "    :param labels: list[str]\n",
        "    :return: pandas.core.frame.DataFrame\n",
        "    \"\"\"\n",
        "    # YOUR CODE HERE"
      ]
    },
    {
      "cell_type": "code",
      "execution_count": null,
      "metadata": {
        "id": "yM0tVIKJsdcx"
      },
      "outputs": [],
      "source": [
        "kittens(data, labels)"
      ]
    },
    {
      "cell_type": "markdown",
      "metadata": {
        "id": "K-8_bYeRsdcz"
      },
      "source": [
        "Expected Output: \n",
        "\n",
        "|  index  | animal   |   age |   weight | priority   |\n",
        "|:---|:---------|------:|---------:|:-----------|\n",
        "| a  | cat      |   2.5 |        1 | yes        |\n",
        "| b  | cat      |   1   |        3 | yes        |\n",
        "| f  | cat      |   2   |        3 | no         |"
      ]
    },
    {
      "cell_type": "markdown",
      "metadata": {
        "id": "Mtc079yNjPNZ"
      },
      "source": [
        "#### 9.4  Implement function sorted_df(data, labels) which creates a dataframe from dictionary \"data\" with indexes from the list \"labels\" which returns dataframe sorted  firstly by age in a decreasing order, secondly, for the number of weight in ascending order.\n",
        "<div style=\"text-align: right\">1 point</div>"
      ]
    },
    {
      "cell_type": "code",
      "execution_count": null,
      "metadata": {
        "id": "zaQ4-bqLjPNa"
      },
      "outputs": [],
      "source": [
        "def sorted_df(data, labels):\n",
        "    \"\"\"\n",
        "    :param data: dict\n",
        "    :param labels: list[str]\n",
        "    :return: pandas.core.frame.DataFrame \n",
        "    \"\"\"\n",
        "    # YOUR CODE HERE"
      ]
    },
    {
      "cell_type": "code",
      "execution_count": null,
      "metadata": {
        "id": "frofbFYTsdc2"
      },
      "outputs": [],
      "source": [
        "sorted_df(data, labels)"
      ]
    },
    {
      "cell_type": "markdown",
      "metadata": {
        "id": "KZwK1kj4sdc3"
      },
      "source": [
        "Expected Output: \n",
        "\n",
        "|  index| animal   |   age |   weight | priority   |\n",
        "|:---|:---------|------:|---------:|:-----------|\n",
        "| i  | dog      |   7   |        7 | no         |\n",
        "| e  | cat      |   5   |        4 | no         |\n",
        "| g  | dog      |   3.5 |       10 | no         |\n",
        "| j  | dog      |   3   |        3 | no         |\n",
        "| a  | cat      |   2.5 |        1 | yes        |\n",
        "| f  | cat      |   2   |        3 | no         |\n",
        "| b  | cat      |   1   |        3 | yes        |\n",
        "| c  | dog      |   0.5 |        6 | no         |\n",
        "| h  | cat      | nan   |        2 | yes        |\n",
        "| d  | dog      | nan   |        8 | yes        |"
      ]
    },
    {
      "cell_type": "markdown",
      "metadata": {
        "id": "vMP5khgag8P-"
      },
      "source": [
        "#### 10. Markov Chain\n",
        "<div style=\"text-align: right\">5 points</div>\n",
        "<img src=\"https://dru.fra1.digitaloceanspaces.com/DS_Fundamentals/static/03_python_for_ds/lab/Python_for_Data_Science/img/08-markov-chain.png\">\n",
        "\n",
        "Markov chain transition matrix P, and probability distribution on the states p:\n",
        "\n",
        "1. $0 <= P[i,j] <= 1:$ probability to go from state i to state j\n",
        "2. Transition rule: $p_{new} = P^T p_{old}$\n",
        "3. all(sum(P, axis=1) == 1), p.sum() == 1: normalization\n",
        "\n",
        "#### Implement function that works with 5 states, and:\n",
        "\n",
        "1. Constructs a random matrix, and normalizes each row so that it is a transition matrix.\n",
        "2. Starts from a random (normalized) probability distribution p and takes n_states => p_(n_states)\n",
        "3. Computes the stationary distribution: the eigenvector of P.T with eigenvalue 1 (numerically: closest to 1) => p_stationary\n",
        "\n",
        "(Don't forget to normalize the eigenvector)\n",
        "\n",
        "Checks if p_(n_states) and p_stationary are equal to tolerance"
      ]
    },
    {
      "cell_type": "code",
      "execution_count": null,
      "metadata": {
        "id": "O2cWfGjIg8P_"
      },
      "outputs": [],
      "source": [
        "def markov_chain(n_states, n_steps, tolerance):\n",
        "    \"\"\"\n",
        "    :n_states: int\n",
        "    :n_steps: int\n",
        "    :tolerance: float\n",
        "    :return: np.array, np.array \n",
        "    \"\"\"\n",
        "    \n",
        "    np.random.seed(1234)\n",
        "    \n",
        "    # Random transition matrix and state vector\n",
        "    P = np.random.rand(n_states, n_states)\n",
        "    p = np.random.rand(n_states)\n",
        "    \n",
        "    # YOUR CODE HERE"
      ]
    },
    {
      "cell_type": "code",
      "execution_count": null,
      "metadata": {
        "id": "n-ykgLBhg8QA"
      },
      "outputs": [],
      "source": [
        "n_states = 6\n",
        "n_steps = 60\n",
        "tolerance = 1e-5\n",
        "p_stationary, p_last = markov_chain(n_states, n_steps, tolerance)\n",
        "\n",
        "if all(abs(p_last - p_stationary) < tolerance):\n",
        "    print(\"Tolerance satisfied in infty-norm\")\n",
        "\n",
        "if np.linalg.norm(p_last - p_stationary) < tolerance:\n",
        "    print(\"Tolerance satisfied in 2-norm\")\n",
        "    \n",
        "print('p_stationary: ', p_stationary)\n",
        "print('p_last: ', p_last)"
      ]
    },
    {
      "cell_type": "markdown",
      "metadata": {
        "id": "MAlJMJ4mg8QB"
      },
      "source": [
        "Expected Output: \n",
        "<table>\n",
        "  <tr>\n",
        "    <td>Tolerance satisfied in infty-norm</td>\n",
        "  <tr>\n",
        "    <td>Tolerance satisfied in infty-norm</td>\n",
        "  <tr>\n",
        "    <td>p_stationary:   [0.17642782 0.21675892 0.16375743 0.20031888 0.13175137 0.11098559]</td>\n",
        "  <tr>\n",
        "    <td>p_last:  [0.17642782 0.21675892 0.16375743 0.20031888 0.13175137 0.11098559]</td>\n",
        "    "
      ]
    },
    {
      "cell_type": "markdown",
      "metadata": {
        "id": "OaJjx-67g8QC"
      },
      "source": [
        "##### Python for Data Science lab Done!"
      ]
    },
    {
      "cell_type": "markdown",
      "metadata": {
        "id": "dW0nn97Lg8QC"
      },
      "source": [
        "##### Make sure that you didn't add or delete any notebook cells. Otherwise your work may not be accepted by the validator!"
      ]
    }
  ],
  "metadata": {
    "colab": {
      "collapsed_sections": [],
      "name": "template-python-libs-lab.ipynb",
      "provenance": [],
      "include_colab_link": true
    },
    "kernelspec": {
      "display_name": "Python 3",
      "language": "python",
      "name": "python3"
    },
    "language_info": {
      "codemirror_mode": {
        "name": "ipython",
        "version": 3
      },
      "file_extension": ".py",
      "mimetype": "text/x-python",
      "name": "python",
      "nbconvert_exporter": "python",
      "pygments_lexer": "ipython3",
      "version": "3.7.7"
    }
  },
  "nbformat": 4,
  "nbformat_minor": 0
}